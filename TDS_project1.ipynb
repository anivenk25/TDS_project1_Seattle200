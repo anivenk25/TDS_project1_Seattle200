{
 "cells": [
  {
   "cell_type": "code",
   "execution_count": null,
   "id": "initial_id",
   "metadata": {
    "ExecuteTime": {
     "end_time": "2024-10-31T09:23:59.342235Z",
     "start_time": "2024-10-31T09:23:59.340199Z"
    },
    "collapsed": true
   },
   "outputs": [],
   "source": [
    "#GITHUB_TOKEN=\"dummy\""
   ]
  },
  {
   "cell_type": "markdown",
   "id": "95de17cfdfb41aa1",
   "metadata": {},
   "source": []
  },
  {
   "cell_type": "code",
   "execution_count": 43,
   "id": "7d392cf9e3930987",
   "metadata": {
    "ExecuteTime": {
     "end_time": "2024-10-31T09:23:59.516834Z",
     "start_time": "2024-10-31T09:23:59.474072Z"
    }
   },
   "outputs": [],
   "source": [
    "import os\n",
    "import requests\n",
    "import pandas as pd\n",
    "import numpy as np\n",
    "from datetime import datetime\n",
    "from scipy.stats import pearsonr\n",
    "from sklearn.linear_model import LinearRegression\n"
   ]
  },
  {
   "cell_type": "markdown",
   "id": "8894c366a3c30727",
   "metadata": {},
   "source": [
    "Function to Fetch Users in Seattle with Over 200 FollowersFunction to Fetch Users in Seattle with Over 200 Followers"
   ]
  },
  {
   "cell_type": "code",
   "execution_count": 44,
   "id": "4f61a8db8bfd97e3",
   "metadata": {
    "ExecuteTime": {
     "end_time": "2024-10-31T09:23:59.663032Z",
     "start_time": "2024-10-31T09:23:59.537075Z"
    }
   },
   "outputs": [],
   "source": [
    "def fetch_users_in_seattle(min_followers=200):\n",
    "    url = 'https://api.github.com/search/users'\n",
    "    headers = {\n",
    "    \"Authorization\": f\"Bearer {\"dummy\"}\"\n",
    "}\n",
    "    params = {'q': 'location:Seattle followers:>200', 'per_page': 100, 'page': 1}\n",
    "    users = []\n",
    "\n",
    "    while True:\n",
    "        response = requests.get(url, headers=headers, params=params)\n",
    "        if response.status_code != 200:\n",
    "            print(\"Error:\", response.json())\n",
    "            break\n",
    "\n",
    "        data = response.json()\n",
    "        users.extend(data['items'])\n",
    "\n",
    "        if len(data['items']) < 100:\n",
    "            break\n",
    "        params['page'] += 1\n",
    "\n",
    "    return users\n"
   ]
  },
  {
   "cell_type": "markdown",
   "id": "5d943f7217014e0f",
   "metadata": {},
   "source": [
    "Function to Clean and Format User Data"
   ]
  },
  {
   "cell_type": "code",
   "execution_count": 45,
   "id": "83fca156876cbded",
   "metadata": {
    "ExecuteTime": {
     "end_time": "2024-10-31T09:23:59.812735Z",
     "start_time": "2024-10-31T09:23:59.669284Z"
    }
   },
   "outputs": [],
   "source": [
    "def clean_user_data(users):\n",
    "    user_data = []\n",
    "    for user in users:\n",
    "        user_detail = requests.get(user['url'],headers = {\n",
    "    \"Authorization\": f\"Bearer {\"dummy\"}\"\n",
    "})\n",
    "        user_info = user_detail.json()\n",
    "\n",
    "        cleaned_user = {\n",
    "            'login': user_info.get('login', ''),\n",
    "            'name': user_info.get('name', ''),\n",
    "            'company': (user_info.get('company', '').lstrip('@').upper().strip() if user_info.get('company') else ''),\n",
    "            'location': user_info.get('location', ''),\n",
    "            'email': user_info.get('email', ''),\n",
    "            'hireable': user_info.get('hireable', ''),\n",
    "            'bio': user_info.get('bio', ''),\n",
    "            'public_repos': user_info.get('public_repos', ''),\n",
    "            'followers': user_info.get('followers', ''),\n",
    "            'following': user_info.get('following', ''),\n",
    "            'created_at': user_info.get('created_at', '')\n",
    "        }\n",
    "        user_data.append(cleaned_user)\n",
    "    return pd.DataFrame(user_data)\n"
   ]
  },
  {
   "cell_type": "markdown",
   "id": "e620858b3ca49a24",
   "metadata": {},
   "source": [
    "Function to Fetch Repositories for Each User"
   ]
  },
  {
   "cell_type": "code",
   "execution_count": 46,
   "id": "300034bb7e0fd894",
   "metadata": {
    "ExecuteTime": {
     "end_time": "2024-10-31T09:23:59.994685Z",
     "start_time": "2024-10-31T09:23:59.833274Z"
    }
   },
   "outputs": [],
   "source": [
    "def fetch_user_repositories(username):\n",
    "    url = f'https://api.github.com/users/{username}/repos'\n",
    "    headers = {\n",
    "    \"Authorization\": f\"Bearer {\"dummy\"}\"\n",
    "}\n",
    "    params = {'per_page': 500, 'sort': 'pushed'}\n",
    "    repos = []\n",
    "\n",
    "    response = requests.get(url, headers=headers, params=params)\n",
    "    if response.status_code == 200:\n",
    "        repos = response.json()\n",
    "    else:\n",
    "        print(\"Error fetching repos for\", username)\n",
    "\n",
    "    repo_data = []\n",
    "    for repo in repos:\n",
    "        repo_data.append({\n",
    "            'login': username,\n",
    "            'full_name': repo.get('full_name', ''),\n",
    "            'created_at': repo.get('created_at', ''),\n",
    "            'stargazers_count': repo.get('stargazers_count', ''),\n",
    "            'watchers_count': repo.get('watchers_count', ''),\n",
    "            'language': repo.get('language', ''),\n",
    "            'has_projects': repo.get('has_projects', ''),\n",
    "            'has_wiki': repo.get('has_wiki', ''),\n",
    "            'license_name': repo.get('license', {}).get('name', '') if repo.get('license') else ''\n",
    "        })\n",
    "    return pd.DataFrame(repo_data)\n"
   ]
  },
  {
   "cell_type": "markdown",
   "id": "10e98517093d4f10",
   "metadata": {},
   "source": []
  },
  {
   "cell_type": "markdown",
   "id": "e4ddd358b29e8433",
   "metadata": {},
   "source": [
    "Fetch and Save Data"
   ]
  },
  {
   "cell_type": "code",
   "execution_count": 47,
   "id": "b275ca56e84050a0",
   "metadata": {
    "ExecuteTime": {
     "end_time": "2024-10-31T09:28:43.590505Z",
     "start_time": "2024-10-31T09:24:00.011787Z"
    }
   },
   "outputs": [],
   "source": [
    "# Fetch users and save to CSV\n",
    "users = fetch_users_in_seattle()\n",
    "users_df = clean_user_data(users)\n",
    "users_df.to_csv('users.csv', index=False)"
   ]
  },
  {
   "cell_type": "code",
   "execution_count": 49,
   "id": "85e6ed9719dded78",
   "metadata": {
    "ExecuteTime": {
     "end_time": "2024-10-31T09:47:16.555995Z",
     "start_time": "2024-10-31T09:35:32.343611Z"
    }
   },
   "outputs": [],
   "source": [
    "# Fetch repositories and save to CSV\n",
    "all_repos = pd.concat([fetch_user_repositories(user['login']) for user in users_df.to_dict(orient='records')])\n",
    "all_repos.to_csv('repositories.csv', index=False)"
   ]
  },
  {
   "cell_type": "markdown",
   "id": "f35b96a0c161938e",
   "metadata": {},
   "source": [
    "Analysis and Answer Generation"
   ]
  },
  {
   "cell_type": "code",
   "id": "2c0289c8719643c1",
   "metadata": {
    "ExecuteTime": {
     "end_time": "2024-10-31T10:37:00.350933Z",
     "start_time": "2024-10-31T10:37:00.245581Z"
    }
   },
   "source": [
    "import pandas as pd\n",
    "from sklearn.linear_model import LinearRegression\n",
    "\n",
    "# Load the data\n",
    "users_df = pd.read_csv('users.csv')\n",
    "repos_df = pd.read_csv('repositories.csv')\n",
    "\n",
    "# Convert 'created_at' column to datetime\n",
    "users_df['created_at'] = pd.to_datetime(users_df['created_at'])\n",
    "\n",
    "# Get top users by followers\n",
    "top_users = users_df.nlargest(5, 'followers')['login'].tolist()\n",
    "print(\"Top Users by Followers:\", ', '.join(top_users))\n",
    "\n",
    "# Get earliest users\n",
    "earliest_users = users_df.nsmallest(5, 'created_at')['login'].tolist()\n",
    "print(\"Earliest Users:\", ', '.join(earliest_users))\n",
    "\n",
    "# Get popular licenses\n",
    "popular_licenses = repos_df['license_name'].value_counts().nlargest(3).index.tolist()\n",
    "print(\"Top Licenses:\", ', '.join(popular_licenses))\n",
    "\n",
    "# Get the most common company\n",
    "common_company = users_df['company'].value_counts().idxmax()\n",
    "print(\"Most Common Company:\", common_company)\n",
    "\n",
    "# Get the most popular language\n",
    "popular_language = repos_df['language'].value_counts().idxmax()\n",
    "print(\"Most Popular Language:\", popular_language)\n",
    "\n",
    "# Get recent users and their second most popular language\n",
    "recent_users = users_df[users_df['created_at'] >= '2020-01-01']\n",
    "second_popular_language = repos_df[repos_df['login'].isin(recent_users['login'])]['language'].value_counts().index[1]\n",
    "print(\"Second Most Popular Language (Post-2020):\", second_popular_language)\n",
    "\n",
    "# Language with highest average stars\n",
    "language_avg_stars = repos_df.groupby('language')['stargazers_count'].mean().idxmax()\n",
    "print(\"Language with Highest Avg Stars:\", language_avg_stars)\n",
    "\n",
    "# Calculate leader strength\n",
    "users_df['leader_strength'] = users_df['followers'] / (1 + users_df['following'])\n",
    "top_leader_strength = users_df.nlargest(5, 'leader_strength')['login'].tolist()\n",
    "print(\"Top by Leader Strength:\", ', '.join(top_leader_strength))\n",
    "\n",
    "# Correlation between followers and public repos\n",
    "correlation = users_df['followers'].corr(users_df['public_repos'])\n",
    "print(\"Correlation (Followers vs. Public Repos):\", round(correlation, 3))\n",
    "\n",
    "# Linear regression on followers based on public repos\n",
    "reg = LinearRegression().fit(users_df[['public_repos']], users_df['followers'])\n",
    "print(\"Regression Slope (Followers on Repos):\", round(reg.coef_[0], 3))\n",
    "\n",
    "# Correlation between projects and wiki\n",
    "corr_projects_wiki = repos_df['has_projects'].astype(int).corr(repos_df['has_wiki'].astype(int))\n",
    "print(\"Correlation (Projects vs. Wiki):\", round(corr_projects_wiki, 3))\n",
    "\n",
    "# Difference in following for hireable users\n",
    "diff_following = users_df[users_df['hireable'] == True]['following'].mean() - users_df[users_df['hireable'] != True]['following'].mean()\n",
    "print(\"Difference in Following (Hireable vs. Not):\", round(diff_following, 3))\n",
    "\n",
    "# Followers per word in bio\n",
    "users_df['bio_word_count'] = users_df['bio'].fillna('').apply(lambda x: len(x.split()))\n",
    "reg_bio = LinearRegression().fit(users_df[['bio_word_count']], users_df['followers'])\n",
    "print(\"Followers per Word in Bio:\", round(reg_bio.coef_[0], 3))\n",
    "\n",
    "# Top weekend repo creators\n",
    "repos_df['created_at'] = pd.to_datetime(repos_df['created_at'])\n",
    "weekend_repos = repos_df[repos_df['created_at'].dt.weekday >= 5]\n",
    "top_weekend_creators = weekend_repos['login'].value_counts().nlargest(5).index.tolist()\n",
    "print(\"Top Weekend Repo Creators:\", ', '.join(top_weekend_creators))\n",
    "\n",
    "# Email sharing difference for hireable vs. non-hireable\n",
    "hireable_with_email = users_df[users_df['hireable'] == True]['email'].notna().mean()\n",
    "non_hireable_with_email = users_df[users_df['hireable'] != True]['email'].notna().mean()\n",
    "email_diff = round(hireable_with_email - non_hireable_with_email, 3)\n",
    "print(\"Email Sharing Diff (Hireable vs. Not):\", email_diff)\n"
   ],
   "outputs": [
    {
     "name": "stdout",
     "output_type": "stream",
     "text": [
      "Top Users by Followers: vczh, bradfitz, munificent, tenderlove, ahmetb\n",
      "Earliest Users: topfunky, nex3, beccasaurus, eric, grantr\n",
      "Top Licenses: MIT License, Apache License 2.0, Other\n",
      "Most Common Company: MICROSOFT\n",
      "Most Popular Language: JavaScript\n",
      "Second Most Popular Language (Post-2020): Python\n",
      "Language with Highest Avg Stars: Haml\n",
      "Top by Leader Strength: awslabs, mission-peace, karan, cmuratori, nex3\n",
      "Correlation (Followers vs. Public Repos): 0.203\n",
      "Regression Slope (Followers on Repos): 2.499\n",
      "Correlation (Projects vs. Wiki): 0.324\n",
      "Difference in Following (Hireable vs. Not): 12.953\n",
      "Followers per Word in Bio: 2.806\n",
      "Top Weekend Repo Creators: homebysix, brandonbloom, anvaka, ryanoasis, nolanlawson\n",
      "Email Sharing Diff (Hireable vs. Not): 0.082\n"
     ]
    }
   ],
   "execution_count": 62
  },
  {
   "cell_type": "code",
   "execution_count": 61,
   "id": "f4bbfaf0638d992e",
   "metadata": {
    "ExecuteTime": {
     "end_time": "2024-10-31T09:55:29.708961Z",
     "start_time": "2024-10-31T09:55:29.695310Z"
    }
   },
   "outputs": [
    {
     "name": "stdout",
     "output_type": "stream",
     "text": [
      "Most Common Surname(s): Wang\n"
     ]
    }
   ],
   "source": [
    "import pandas as pd\n",
    "\n",
    "# Extract surname: last word in each name\n",
    "users_df['surname'] = users_df['name'].apply(lambda x: x.strip().split()[-1] if pd.notna(x) and len(x.strip().split()) > 0 else '')\n",
    "\n",
    "# Filter out empty surnames\n",
    "surnames = users_df['surname'].dropna().replace('', pd.NA).dropna()\n",
    "\n",
    "# Count occurrences of each surname\n",
    "surname_counts = surnames.value_counts()\n",
    "\n",
    "# Find the maximum count\n",
    "max_count = surname_counts.max()\n",
    "\n",
    "# Get all surnames with the maximum count and sort them alphabetically\n",
    "most_common_surnames = surname_counts[surname_counts == max_count].index.tolist()\n",
    "most_common_surnames.sort()\n",
    "\n",
    "# Join them into a comma-separated string\n",
    "result = ', '.join(most_common_surnames)\n",
    "\n",
    "print(\"Most Common Surname(s):\", result)\n"
   ]
  }
 ],
 "metadata": {
  "kernelspec": {
   "display_name": "Python 3",
   "language": "python",
   "name": "python3"
  },
  "language_info": {
   "codemirror_mode": {
    "name": "ipython",
    "version": 2
   },
   "file_extension": ".py",
   "mimetype": "text/x-python",
   "name": "python",
   "nbconvert_exporter": "python",
   "pygments_lexer": "ipython2",
   "version": "2.7.6"
  }
 },
 "nbformat": 4,
 "nbformat_minor": 5
}
